{
 "cells": [
  {
   "cell_type": "code",
   "execution_count": 77,
   "metadata": {},
   "outputs": [],
   "source": [
    "from sklearn.model_selection import KFold\n",
    "from sklearn.neural_network import MLPClassifier\n",
    "from sklearn.neighbors import KNeighborsClassifier\n",
    "from sklearn.naive_bayes import MultinomialNB, GaussianNB\n",
    "from sklearn.preprocessing import MinMaxScaler\n",
    "from sklearn.model_selection import train_test_split\n",
    "from sklearn.ensemble import RandomForestClassifier, GradientBoostingClassifier, AdaBoostClassifier \n",
    "from sklearn.metrics import accuracy_score\n",
    "from sklearn.model_selection import StratifiedShuffleSplit\n",
    "from sklearn.ensemble import ExtraTreesClassifier\n",
    "import matplotlib.pyplot as plt\n",
    "from sklearn.svm import SVC\n",
    "%matplotlib inline\n",
    "import pandas as pd\n",
    "import numpy as np"
   ]
  },
  {
   "cell_type": "code",
   "execution_count": 78,
   "metadata": {},
   "outputs": [],
   "source": [
    "#read the dataset\n",
    "df = pd.read_csv('Andhra_dataset2.csv')"
   ]
  },
  {
   "cell_type": "code",
   "execution_count": 79,
   "metadata": {},
   "outputs": [
    {
     "name": "stderr",
     "output_type": "stream",
     "text": [
      "C:\\Users\\Pradyumna\\Anaconda3\\lib\\site-packages\\pandas\\core\\generic.py:6130: SettingWithCopyWarning: \n",
      "A value is trying to be set on a copy of a slice from a DataFrame\n",
      "\n",
      "See the caveats in the documentation: http://pandas.pydata.org/pandas-docs/stable/indexing.html#indexing-view-versus-copy\n",
      "  self._update_inplace(new_data)\n"
     ]
    }
   ],
   "source": [
    "#for the vizualizations please refer to:\n",
    "#Please refer to -  https://www.kaggle.com/anushkini/lbw-feature-engineering?scriptVersionId=23972637\n",
    "#take all the rows with 1\n",
    "df_1 = df[df.reslt==1]\n",
    "#take all the rows with 0\n",
    "df_0 = df[df.reslt==0]\n",
    "#impute with the mean\n",
    "df_0.fillna(df_0.mean(), inplace = True)\n",
    "df_1.fillna(df_1.mean(), inplace = True)\n",
    "#join the datasets again\n",
    "df = pd.concat([df_0, df_1])\n",
    "\n",
    "#data imputation done!"
   ]
  },
  {
   "cell_type": "code",
   "execution_count": 80,
   "metadata": {},
   "outputs": [
    {
     "name": "stdout",
     "output_type": "stream",
     "text": [
      "[0.8303933  0.11641374 0.02084962 0.0163332  0.00694599 0.00581415\n",
      " 0.00217251 0.00107749 0.        ]\n"
     ]
    },
    {
     "data": {
      "image/png": "[encoded data removed]",
      "text/plain": [
       "<Figure size 432x288 with 1 Axes>"
      ]
     },
     "metadata": {},
     "output_type": "display_data"
    }
   ],
   "source": [
    "#method 1\n",
    "from sklearn.decomposition import PCA\n",
    "pca = PCA()\n",
    "\n",
    "#shuffle the dataset so that we dont ahve skewed folds in the k folds\n",
    "df = df.sample(frac=1, random_state = 828).reset_index(drop=True)\n",
    "y  = df['reslt'].to_numpy()\n",
    "X = df.drop(['reslt'],axis = 1)\n",
    "\n",
    "pca.fit(X)\n",
    "print(pca.explained_variance_ratio_)\n",
    "#get the normalized importances\n",
    "l = pca.explained_variance_ratio_/sum(pca.explained_variance_ratio_)  \n",
    "plt.figure()\n",
    "plt.plot(np.cumsum(pca.explained_variance_ratio_))\n",
    "plt.xlabel('Number of Components')\n",
    "plt.ylabel('Variance (%)') #for each component\n",
    "plt.title('PCA Explained Variance')\n",
    "plt.show()"
   ]
  },
  {
   "cell_type": "code",
   "execution_count": 81,
   "metadata": {},
   "outputs": [
    {
     "name": "stderr",
     "output_type": "stream",
     "text": [
      "C:\\Users\\Pradyumna\\Anaconda3\\lib\\site-packages\\sklearn\\ensemble\\forest.py:245: FutureWarning: The default value of n_estimators will change from 10 in version 0.20 to 100 in 0.22.\n",
      "  \"10 in version 0.20 to 100 in 0.22.\", FutureWarning)\n",
      "C:\\Users\\Pradyumna\\Anaconda3\\lib\\site-packages\\sklearn\\ensemble\\forest.py:245: FutureWarning: The default value of n_estimators will change from 10 in version 0.20 to 100 in 0.22.\n",
      "  \"10 in version 0.20 to 100 in 0.22.\", FutureWarning)\n",
      "C:\\Users\\Pradyumna\\Anaconda3\\lib\\site-packages\\sklearn\\ensemble\\forest.py:245: FutureWarning: The default value of n_estimators will change from 10 in version 0.20 to 100 in 0.22.\n",
      "  \"10 in version 0.20 to 100 in 0.22.\", FutureWarning)\n",
      "C:\\Users\\Pradyumna\\Anaconda3\\lib\\site-packages\\sklearn\\ensemble\\forest.py:245: FutureWarning: The default value of n_estimators will change from 10 in version 0.20 to 100 in 0.22.\n",
      "  \"10 in version 0.20 to 100 in 0.22.\", FutureWarning)\n"
     ]
    },
    {
     "name": "stdout",
     "output_type": "stream",
     "text": [
      "gbdt 0.8423809523809525 [0.7619047619047619, 0.85, 0.8, 0.95, 0.85]\n",
      "random forest 0.7933333333333333 [0.6666666666666666, 0.9, 0.8, 0.75, 0.85]\n",
      "adaboost 0.7933333333333333 [0.6666666666666666, 0.9, 0.8, 0.75, 0.85]\n",
      "neural network 0.7828571428571427 [0.7142857142857143, 0.85, 0.75, 0.65, 0.95]\n",
      "knn 0.8909523809523808 [0.9047619047619048, 0.9, 0.85, 0.95, 0.85]\n",
      "svm 0.9304761904761906\n"
     ]
    },
    {
     "name": "stderr",
     "output_type": "stream",
     "text": [
      "C:\\Users\\Pradyumna\\Anaconda3\\lib\\site-packages\\sklearn\\ensemble\\forest.py:245: FutureWarning: The default value of n_estimators will change from 10 in version 0.20 to 100 in 0.22.\n",
      "  \"10 in version 0.20 to 100 in 0.22.\", FutureWarning)\n"
     ]
    }
   ],
   "source": [
    "#now choose the first 3 components and perform PCA\n",
    "pca = PCA(n_components = 3)\n",
    "X = pca.fit_transform(X)\n",
    "#THIS IS JUST TRYING IT OUT\n",
    "df = df.sample(frac=1).reset_index(drop=True)\n",
    "kf = KFold(n_splits=5)\n",
    "gbdt = []\n",
    "rf = []\n",
    "ada = []\n",
    "dnn = []\n",
    "knn = []\n",
    "nb = []\n",
    "svms=[]\n",
    "#perform k fold cross validation for all the models\n",
    "for train_index, test_index in kf.split(X, y):\n",
    "    x_train, x_test = X[train_index], X[test_index]\n",
    "    y_train, y_test = y[train_index], y[test_index]\n",
    "    clf = RandomForestClassifier( max_depth=2)\n",
    "    clf1 = GradientBoostingClassifier()\n",
    "    clf2 = AdaBoostClassifier(n_estimators = 100)\n",
    "    clf3 = MLPClassifier(solver='lbfgs', alpha=1e-3,\n",
    "                    hidden_layer_sizes=(5, 5 ,5, 5, 3))\n",
    "    neigh = KNeighborsClassifier(n_neighbors=3)\n",
    "    svm = SVC(gamma='auto')\n",
    "    svm.fit(X, y) \n",
    "    neigh.fit(x_train, y_train) \n",
    "    clf.fit(x_train,y_train)\n",
    "    clf1.fit(x_train, y_train)\n",
    "    clf2.fit(x_train, y_train)\n",
    "    clf3.fit(x_train, y_train)\n",
    "\n",
    "    dnn.append(accuracy_score(clf3.predict(x_test), y_test))\n",
    "    gbdt.append(accuracy_score(clf1.predict(x_test), y_test))\n",
    "    rf.append(accuracy_score(clf.predict(x_test), y_test))\n",
    "    ada.append(accuracy_score(clf.predict(x_test), y_test))\n",
    "    knn.append(accuracy_score(neigh.predict(x_test), y_test))\n",
    "    svms.append(accuracy_score(svm.predict(x_test), y_test))\n",
    "\n",
    "print(\"gbdt\", sum(gbdt)/len(gbdt), gbdt)\n",
    "print(\"random forest\",sum(rf)/len(rf), rf)\n",
    "print(\"adaboost\",sum(ada)/len(ada), ada)\n",
    "print(\"neural network\", sum(dnn)/len(dnn), dnn)\n",
    "print(\"knn\", sum(knn)/len(knn), knn)\n",
    "print(\"svm\", sum(svms)/len(svms))"
   ]
  },
  {
   "cell_type": "code",
   "execution_count": 82,
   "metadata": {},
   "outputs": [
    {
     "name": "stderr",
     "output_type": "stream",
     "text": [
      "C:\\Users\\Pradyumna\\Anaconda3\\lib\\site-packages\\sklearn\\ensemble\\forest.py:245: FutureWarning: The default value of n_estimators will change from 10 in version 0.20 to 100 in 0.22.\n",
      "  \"10 in version 0.20 to 100 in 0.22.\", FutureWarning)\n"
     ]
    },
    {
     "name": "stdout",
     "output_type": "stream",
     "text": [
      "22\n",
      "gbdt 0.8095238095238095\n",
      "random forest 0.9047619047619048\n",
      "adaboost 0.9047619047619048\n",
      "neural network 0.9523809523809523\n",
      "knn 0.9523809523809523\n",
      "svm 0.9523809523809523\n"
     ]
    }
   ],
   "source": [
    "#normal test train split for pca\n",
    "gbdt = []\n",
    "rf = []\n",
    "ada = []\n",
    "dnn = []\n",
    "knn = []\n",
    "nb = []\n",
    "svms=[]\n",
    "\n",
    "x_train, x_test, y_train,y_test = train_test_split(X, y, test_size = 0.2, random_state = 132)\n",
    "clf = RandomForestClassifier( max_depth=2)\n",
    "clf1 = GradientBoostingClassifier()\n",
    "clf2 = AdaBoostClassifier(n_estimators = 100)\n",
    "clf3 = MLPClassifier(solver='lbfgs', alpha=1e-3,\n",
    "                hidden_layer_sizes=(5, 5 ,5 , 2))\n",
    "neigh = KNeighborsClassifier(n_neighbors=7)\n",
    "svm = SVC(gamma='auto')\n",
    "svm.fit(x_train, y_train) \n",
    "neigh.fit(x_train, y_train)\n",
    "clf.fit(x_train,y_train)\n",
    "clf1.fit(x_train, y_train)\n",
    "clf2.fit(x_train, y_train)\n",
    "clf3.fit(x_train, y_train)\n",
    "\n",
    "dnn.append(accuracy_score(clf3.predict(x_test), y_test))\n",
    "gbdt.append(accuracy_score(clf1.predict(x_test), y_test))\n",
    "rf.append(accuracy_score(clf.predict(x_test), y_test))\n",
    "ada.append(accuracy_score(clf.predict(x_test), y_test))\n",
    "knn.append(accuracy_score(neigh.predict(x_test), y_test))\n",
    "svms.append(accuracy_score(svm.predict(x_test), y_test))\n",
    "\n",
    "print(list(y_train).count(0))\n",
    "print(\"gbdt\", sum(gbdt)/len(gbdt))\n",
    "print(\"random forest\",sum(rf)/len(rf))\n",
    "print(\"adaboost\",sum(ada)/len(ada))\n",
    "print(\"neural network\", sum(dnn)/len(dnn))\n",
    "print(\"knn\", sum(knn)/len(knn))\n",
    "print(\"svm\", sum(svms)/len(svms))"
   ]
  },
  {
   "cell_type": "code",
   "execution_count": 83,
   "metadata": {},
   "outputs": [],
   "source": [
    "#as we see, kNN model seems to be performing the best for this dataset. \n",
    "#this is probably dure to the small size of the dataset."
   ]
  },
  {
   "cell_type": "code",
   "execution_count": 84,
   "metadata": {},
   "outputs": [],
   "source": [
    "#method 2\n",
    "\n",
    "X = df.drop(['reslt'],axis = 1).to_numpy()\n",
    "y = df['reslt'].to_numpy()\n",
    "model = ExtraTreesClassifier(n_estimators=10, random_state =28)\n",
    "model.fit(X, y)\n",
    "df.drop(['reslt'],axis = 1)\n",
    "x = model.feature_importances_\n",
    "x = x/np.sum(x)\n",
    "x = x*100\n",
    "scaler = MinMaxScaler()\n",
    "X = scaler.fit_transform(df.drop(['reslt'],axis = 1))\n",
    "X = X*x\n",
    "y = df['reslt'].to_numpy()"
   ]
  },
  {
   "cell_type": "code",
   "execution_count": 92,
   "metadata": {},
   "outputs": [
    {
     "name": "stderr",
     "output_type": "stream",
     "text": [
      "C:\\Users\\Pradyumna\\Anaconda3\\lib\\site-packages\\sklearn\\ensemble\\forest.py:245: FutureWarning: The default value of n_estimators will change from 10 in version 0.20 to 100 in 0.22.\n",
      "  \"10 in version 0.20 to 100 in 0.22.\", FutureWarning)\n",
      "C:\\Users\\Pradyumna\\Anaconda3\\lib\\site-packages\\sklearn\\ensemble\\forest.py:245: FutureWarning: The default value of n_estimators will change from 10 in version 0.20 to 100 in 0.22.\n",
      "  \"10 in version 0.20 to 100 in 0.22.\", FutureWarning)\n",
      "C:\\Users\\Pradyumna\\Anaconda3\\lib\\site-packages\\sklearn\\ensemble\\forest.py:245: FutureWarning: The default value of n_estimators will change from 10 in version 0.20 to 100 in 0.22.\n",
      "  \"10 in version 0.20 to 100 in 0.22.\", FutureWarning)\n",
      "C:\\Users\\Pradyumna\\Anaconda3\\lib\\site-packages\\sklearn\\ensemble\\forest.py:245: FutureWarning: The default value of n_estimators will change from 10 in version 0.20 to 100 in 0.22.\n",
      "  \"10 in version 0.20 to 100 in 0.22.\", FutureWarning)\n",
      "C:\\Users\\Pradyumna\\Anaconda3\\lib\\site-packages\\sklearn\\ensemble\\forest.py:245: FutureWarning: The default value of n_estimators will change from 10 in version 0.20 to 100 in 0.22.\n",
      "  \"10 in version 0.20 to 100 in 0.22.\", FutureWarning)\n"
     ]
    },
    {
     "name": "stdout",
     "output_type": "stream",
     "text": [
      "gbdt 0.8414285714285714 [0.8571428571428571, 0.8, 0.85, 0.9, 0.8]\n",
      "random forest 0.8314285714285713 [0.8571428571428571, 0.7, 0.85, 0.9, 0.85]\n",
      "adaboost 0.8314285714285713 [0.8571428571428571, 0.7, 0.85, 0.9, 0.85]\n",
      "neural network 0.8123809523809523 [0.7619047619047619, 0.85, 0.85, 0.85, 0.75]\n",
      "knn 0.8914285714285715 [0.8571428571428571, 0.8, 0.85, 0.95, 1.0]\n",
      "mnb 0.7414285714285714 [0.8571428571428571, 0.45, 0.8, 0.85, 0.75]\n",
      "svm 0.7823809523809524\n"
     ]
    }
   ],
   "source": [
    "kf = KFold(n_splits=5, shuffle = True)\n",
    "gbdt = []\n",
    "rf = []\n",
    "ada = []\n",
    "dnn = []\n",
    "knn = []\n",
    "nb = []\n",
    "svms=[]\n",
    "kf.get_n_splits(X)\n",
    "for train_index, test_index in kf.split(X):\n",
    "   \n",
    "    x_train, x_test = X[train_index,:], X[test_index,:]\n",
    "    y_train, y_test = y[train_index], y[test_index]\n",
    "\n",
    "    clf = RandomForestClassifier( max_depth=2)\n",
    "    clf1 = GradientBoostingClassifier()\n",
    "    clf2 = AdaBoostClassifier(n_estimators = 100)\n",
    "    clf3 = MLPClassifier(solver='lbfgs', alpha=1e-3,\n",
    "                    hidden_layer_sizes=(5, 5 ,5 , 2))\n",
    "    neigh = KNeighborsClassifier(n_neighbors=7)\n",
    "    mnb = GaussianNB()\n",
    "    svm = SVC(gamma='auto')\n",
    "    svm.fit(x_train, y_train) \n",
    "    neigh.fit(x_train, y_train)\n",
    "    clf.fit(x_train,y_train)\n",
    "    clf1.fit(x_train, y_train)\n",
    "    clf2.fit(x_train, y_train)\n",
    "    clf3.fit(x_train, y_train)\n",
    "    mnb.fit(x_train, y_train)\n",
    "\n",
    "    dnn.append(accuracy_score(clf3.predict(x_test), y_test))\n",
    "    gbdt.append(accuracy_score(clf1.predict(x_test), y_test))\n",
    "    rf.append(accuracy_score(clf.predict(x_test), y_test))\n",
    "    ada.append(accuracy_score(clf.predict(x_test), y_test))\n",
    "    knn.append(accuracy_score(neigh.predict(x_test), y_test))\n",
    "    nb.append(accuracy_score(mnb.predict(x_test), y_test))\n",
    "    svms.append(accuracy_score(svm.predict(x_test), y_test))\n",
    "\n",
    "print(\"gbdt\", sum(gbdt)/len(gbdt), gbdt)\n",
    "print(\"random forest\",sum(rf)/len(rf), rf)\n",
    "print(\"adaboost\",sum(ada)/len(ada), ada)\n",
    "print(\"neural network\", sum(dnn)/len(dnn), dnn)\n",
    "print(\"knn\", sum(knn)/len(knn), knn)\n",
    "print(\"mnb\", sum(nb)/len(nb), nb)\n",
    "print(\"svm\", sum(svms)/len(svms))"
   ]
  },
  {
   "cell_type": "code",
   "execution_count": 86,
   "metadata": {},
   "outputs": [],
   "source": [
    "#as we see, kNN is performing the best.\n",
    "#our kNN model \n",
    "#we have used euclidean distance here\n",
    "def distance(v1, v2):\n",
    "    return np.sum(np.sqrt(np.abs(np.square(v1)-np.square(v2))))\n",
    "def getKNNpredictions(X_train,y_train, X_test, k):\n",
    "    #append the y values to the columns for simplicity when sorting\n",
    "    X_train = np.append(X_train,y_train.reshape(-1,1),axis = 1)\n",
    "    predictions = []\n",
    "    X_train = list(X_train)\n",
    "    ncols = len(X_train[0])\n",
    "    #loop through the test set and make predictions for each one seperately\n",
    "    for i in X_test:\n",
    "        #sort the train set based on the distance from this distance\n",
    "        sortlist = sorted(X_train, key = lambda x: distance(x[:ncols-1], i))\n",
    "        #choose the k nearest ones\n",
    "        knearest = np.asarray(sortlist[:k])\n",
    "        #append the prediction to the result array\n",
    "        #here, bincount returns the mode of the list of integers\n",
    "        predictions.append(np.bincount(np.asarray(knearest[:,ncols-1], np.int64)).argmax())\n",
    "    return np.asarray(predictions)"
   ]
  },
  {
   "cell_type": "code",
   "execution_count": 87,
   "metadata": {},
   "outputs": [
    {
     "name": "stdout",
     "output_type": "stream",
     "text": [
      "0.911904761904762\n"
     ]
    }
   ],
   "source": [
    "#5 fold cross validation on our kNN model\n",
    "kf = KFold(n_splits=5, shuffle = True)\n",
    "knn = []\n",
    "kf.get_n_splits(X)\n",
    "for train_index, test_index in kf.split(X):\n",
    "    x_train, x_test = X[train_index,:], X[test_index,:]\n",
    "    y_train, y_test = y[train_index], y[test_index]\n",
    "    knn.append(accuracy_score(getKNNpredictions(x_train,y_train, x_test,7), y_test))\n",
    "print(sum(knn)/len(knn))"
   ]
  },
  {
   "cell_type": "code",
   "execution_count": 89,
   "metadata": {},
   "outputs": [
    {
     "name": "stdout",
     "output_type": "stream",
     "text": [
      "1.0\n"
     ]
    }
   ],
   "source": [
    "#Normal validation on the kNN:\n",
    "knn = []\n",
    "x_train,x_test,y_train,y_test = train_test_split(X,y)\n",
    "knn.append(accuracy_score(getKNNpredictions(x_train,y_train, x_test,7), y_test))\n",
    "print(sum(knn)/len(knn))"
   ]
  },
  {
   "cell_type": "code",
   "execution_count": 93,
   "metadata": {},
   "outputs": [],
   "source": [
    "X_test = np.asarray([np.asarray([3,75,80,1,4,1,1.375,5,1])])"
   ]
  },
  {
   "cell_type": "code",
   "execution_count": 95,
   "metadata": {},
   "outputs": [
    {
     "data": {
      "text/plain": [
       "array([1], dtype=int64)"
      ]
     },
     "execution_count": 95,
     "metadata": {},
     "output_type": "execute_result"
    }
   ],
   "source": [
    "getKNNpredictions(X, y, X_test, 7)"
   ]
  }
 ],
 "metadata": {
  "kernelspec": {
   "display_name": "Python 3",
   "language": "python",
   "name": "python3"
  },
  "language_info": {
   "codemirror_mode": {
    "name": "ipython",
    "version": 3
   },
   "file_extension": ".py",
   "mimetype": "text/x-python",
   "name": "python",
   "nbconvert_exporter": "python",
   "pygments_lexer": "ipython3",
   "version": "3.6.5"
  }
 },
 "nbformat": 4,
 "nbformat_minor": 2
}
